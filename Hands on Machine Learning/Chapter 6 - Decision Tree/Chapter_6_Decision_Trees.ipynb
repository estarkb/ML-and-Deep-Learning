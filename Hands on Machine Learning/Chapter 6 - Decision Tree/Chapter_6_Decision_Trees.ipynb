{
  "nbformat": 4,
  "nbformat_minor": 0,
  "metadata": {
    "colab": {
      "name": "Chapter 6 - Decision Trees",
      "version": "0.3.2",
      "provenance": [],
      "collapsed_sections": [],
      "toc_visible": true
    },
    "kernelspec": {
      "name": "python3",
      "display_name": "Python 3"
    }
  },
  "cells": [
    {
      "metadata": {
        "id": "BnwDqmkmy-j5",
        "colab_type": "text"
      },
      "cell_type": "markdown",
      "source": [
        "##**Chapter 6 - [Decision Trees](https://github.com/ageron/handson-ml2/blob/master/06_decision_trees.ipynb)** \n",
        "\n",
        "Son muy versátiles y fáciles de interpretar la manera en que toman sus decisiones (Incluso podemos graficar el proceso de clasificación)."
      ]
    },
    {
      "metadata": {
        "id": "6pn8GMl6gySY",
        "colab_type": "text"
      },
      "cell_type": "markdown",
      "source": [
        "### **[Problemas de Clasificación](https://scikit-learn.org/stable/modules/tree.html#classification)**\n",
        "\n",
        "Tal como una regresión logistica o un SVM, pero con la felxibilidad de los arboles de decisión"
      ]
    },
    {
      "metadata": {
        "id": "sU-52xwu6cTX",
        "colab_type": "code",
        "colab": {}
      },
      "cell_type": "code",
      "source": [
        "#Librerías Comunes o No específicas al problema en cuestión\n",
        "import numpy as np\n",
        "import os\n",
        "import pandas as pd\n",
        "\n",
        "%matplotlib inline\n",
        "import matplotlib as mpl\n",
        "import matplotlib.pyplot as plt\n",
        "mpl.rc('axes', labelsize=14)\n",
        "mpl.rc('xtick', labelsize=12)\n",
        "mpl.rc('ytick', labelsize=12)\n",
        "\n",
        "#Reproducible\n",
        "np.random.seed(42)"
      ],
      "execution_count": 0,
      "outputs": []
    },
    {
      "metadata": {
        "id": "q3LK5r-Qy97R",
        "colab_type": "code",
        "outputId": "7d5505a4-8cea-4c3c-97b3-b7dcbbafd32e",
        "colab": {
          "base_uri": "https://localhost:8080/",
          "height": 119
        }
      },
      "cell_type": "code",
      "source": [
        "#Importamos datos, separamos el target de los atributos, entrenamos al modelo\n",
        "from sklearn.datasets import load_iris\n",
        "from sklearn.tree import DecisionTreeClassifier\n",
        "iris = load_iris()\n",
        "X=iris.data[:,2:]\n",
        "y=iris.target\n",
        "tree_clf = DecisionTreeClassifier(max_depth=2)\n",
        "tree_clf.fit(X, y)"
      ],
      "execution_count": 83,
      "outputs": [
        {
          "output_type": "execute_result",
          "data": {
            "text/plain": [
              "DecisionTreeClassifier(class_weight=None, criterion='gini', max_depth=2,\n",
              "            max_features=None, max_leaf_nodes=None,\n",
              "            min_impurity_decrease=0.0, min_impurity_split=None,\n",
              "            min_samples_leaf=1, min_samples_split=2,\n",
              "            min_weight_fraction_leaf=0.0, presort=False, random_state=None,\n",
              "            splitter='best')"
            ]
          },
          "metadata": {
            "tags": []
          },
          "execution_count": 83
        }
      ]
    },
    {
      "metadata": {
        "id": "VCJechveMsz-",
        "colab_type": "code",
        "outputId": "e8688e31-e67f-4e83-acf2-336fe1897295",
        "colab": {
          "base_uri": "https://localhost:8080/",
          "height": 34
        }
      },
      "cell_type": "code",
      "source": [
        "#Vemos en que manera están nombrados cada una de las clasificaciones\n",
        "tree_clf.classes_\n",
        "#0-->Iris-Setosa\n",
        "#1-->Iris-Versicolor\n",
        "#2-->Iris-Virginica"
      ],
      "execution_count": 80,
      "outputs": [
        {
          "output_type": "execute_result",
          "data": {
            "text/plain": [
              "array([0, 1, 2])"
            ]
          },
          "metadata": {
            "tags": []
          },
          "execution_count": 80
        }
      ]
    },
    {
      "metadata": {
        "id": "oivfMlxAKu6S",
        "colab_type": "text"
      },
      "cell_type": "markdown",
      "source": [
        "####**Explicando un arbol de Decisión**\n",
        "\n",
        "A continuación se presenta un gráfico que nos entrega la idea de como el algoritmo toma sus decisiones. A los arboles de decisión los podemos llamar \"white box models\" ya que la forma en que toman las decisiones de clasificación no son un enigma, son facilmente interpretables. "
      ]
    },
    {
      "metadata": {
        "id": "grXyr4ue3pzR",
        "colab_type": "code",
        "outputId": "4fc852d8-97f3-43b2-c4c4-51fb5c954351",
        "colab": {
          "base_uri": "https://localhost:8080/",
          "height": 440
        }
      },
      "cell_type": "code",
      "source": [
        "from graphviz import Source\n",
        "from sklearn.tree import export_graphviz\n",
        "\n",
        "export_graphviz(\n",
        "        tree_clf,\n",
        "        out_file=os.path.join(\"iris_tree.dot\"),\n",
        "        feature_names=iris.feature_names[2:],\n",
        "        class_names=iris.target_names,\n",
        "        rounded=True,\n",
        "        filled=True\n",
        "    )\n",
        "Source.from_file(os.path.join(\"iris_tree.dot\"))"
      ],
      "execution_count": 81,
      "outputs": [
        {
          "output_type": "execute_result",
          "data": {
            "text/plain": [
              "<graphviz.files.Source at 0x7f02f3ea6940>"
            ],
            "image/svg+xml": "<?xml version=\"1.0\" encoding=\"UTF-8\" standalone=\"no\"?>\n<!DOCTYPE svg PUBLIC \"-//W3C//DTD SVG 1.1//EN\"\n \"http://www.w3.org/Graphics/SVG/1.1/DTD/svg11.dtd\">\n<!-- Generated by graphviz version 2.40.1 (20161225.0304)\n -->\n<!-- Title: Tree Pages: 1 -->\n<svg width=\"368pt\" height=\"314pt\"\n viewBox=\"0.00 0.00 368.00 314.00\" xmlns=\"http://www.w3.org/2000/svg\" xmlns:xlink=\"http://www.w3.org/1999/xlink\">\n<g id=\"graph0\" class=\"graph\" transform=\"scale(1 1) rotate(0) translate(4 310)\">\n<title>Tree</title>\n<polygon fill=\"#ffffff\" stroke=\"transparent\" points=\"-4,4 -4,-310 364,-310 364,4 -4,4\"/>\n<!-- 0 -->\n<g id=\"node1\" class=\"node\">\n<title>0</title>\n<path fill=\"#8139e5\" fill-opacity=\"0.043137\" stroke=\"#000000\" d=\"M212.5,-306C212.5,-306 74.5,-306 74.5,-306 68.5,-306 62.5,-300 62.5,-294 62.5,-294 62.5,-235 62.5,-235 62.5,-229 68.5,-223 74.5,-223 74.5,-223 212.5,-223 212.5,-223 218.5,-223 224.5,-229 224.5,-235 224.5,-235 224.5,-294 224.5,-294 224.5,-300 218.5,-306 212.5,-306\"/>\n<text text-anchor=\"middle\" x=\"143.5\" y=\"-290.8\" font-family=\"Helvetica,sans-Serif\" font-size=\"14.00\" fill=\"#000000\">petal width (cm) &lt;= 0.8</text>\n<text text-anchor=\"middle\" x=\"143.5\" y=\"-275.8\" font-family=\"Helvetica,sans-Serif\" font-size=\"14.00\" fill=\"#000000\">gini = 0.666</text>\n<text text-anchor=\"middle\" x=\"143.5\" y=\"-260.8\" font-family=\"Helvetica,sans-Serif\" font-size=\"14.00\" fill=\"#000000\">samples = 105</text>\n<text text-anchor=\"middle\" x=\"143.5\" y=\"-245.8\" font-family=\"Helvetica,sans-Serif\" font-size=\"14.00\" fill=\"#000000\">value = [34, 34, 37]</text>\n<text text-anchor=\"middle\" x=\"143.5\" y=\"-230.8\" font-family=\"Helvetica,sans-Serif\" font-size=\"14.00\" fill=\"#000000\">class = virginica</text>\n</g>\n<!-- 1 -->\n<g id=\"node2\" class=\"node\">\n<title>1</title>\n<path fill=\"#e58139\" stroke=\"#000000\" d=\"M111,-179.5C111,-179.5 12,-179.5 12,-179.5 6,-179.5 0,-173.5 0,-167.5 0,-167.5 0,-123.5 0,-123.5 0,-117.5 6,-111.5 12,-111.5 12,-111.5 111,-111.5 111,-111.5 117,-111.5 123,-117.5 123,-123.5 123,-123.5 123,-167.5 123,-167.5 123,-173.5 117,-179.5 111,-179.5\"/>\n<text text-anchor=\"middle\" x=\"61.5\" y=\"-164.3\" font-family=\"Helvetica,sans-Serif\" font-size=\"14.00\" fill=\"#000000\">gini = 0.0</text>\n<text text-anchor=\"middle\" x=\"61.5\" y=\"-149.3\" font-family=\"Helvetica,sans-Serif\" font-size=\"14.00\" fill=\"#000000\">samples = 34</text>\n<text text-anchor=\"middle\" x=\"61.5\" y=\"-134.3\" font-family=\"Helvetica,sans-Serif\" font-size=\"14.00\" fill=\"#000000\">value = [34, 0, 0]</text>\n<text text-anchor=\"middle\" x=\"61.5\" y=\"-119.3\" font-family=\"Helvetica,sans-Serif\" font-size=\"14.00\" fill=\"#000000\">class = setosa</text>\n</g>\n<!-- 0&#45;&gt;1 -->\n<g id=\"edge1\" class=\"edge\">\n<title>0&#45;&gt;1</title>\n<path fill=\"none\" stroke=\"#000000\" d=\"M114.8204,-222.8796C107.0917,-211.6636 98.7191,-199.5131 90.9492,-188.2372\"/>\n<polygon fill=\"#000000\" stroke=\"#000000\" points=\"93.7018,-186.0634 85.1456,-179.8149 87.9377,-190.0353 93.7018,-186.0634\"/>\n<text text-anchor=\"middle\" x=\"80.6196\" y=\"-200.7018\" font-family=\"Helvetica,sans-Serif\" font-size=\"14.00\" fill=\"#000000\">True</text>\n</g>\n<!-- 2 -->\n<g id=\"node3\" class=\"node\">\n<title>2</title>\n<path fill=\"#8139e5\" fill-opacity=\"0.082353\" stroke=\"#000000\" d=\"M299.5,-187C299.5,-187 153.5,-187 153.5,-187 147.5,-187 141.5,-181 141.5,-175 141.5,-175 141.5,-116 141.5,-116 141.5,-110 147.5,-104 153.5,-104 153.5,-104 299.5,-104 299.5,-104 305.5,-104 311.5,-110 311.5,-116 311.5,-116 311.5,-175 311.5,-175 311.5,-181 305.5,-187 299.5,-187\"/>\n<text text-anchor=\"middle\" x=\"226.5\" y=\"-171.8\" font-family=\"Helvetica,sans-Serif\" font-size=\"14.00\" fill=\"#000000\">petal width (cm) &lt;= 1.75</text>\n<text text-anchor=\"middle\" x=\"226.5\" y=\"-156.8\" font-family=\"Helvetica,sans-Serif\" font-size=\"14.00\" fill=\"#000000\">gini = 0.499</text>\n<text text-anchor=\"middle\" x=\"226.5\" y=\"-141.8\" font-family=\"Helvetica,sans-Serif\" font-size=\"14.00\" fill=\"#000000\">samples = 71</text>\n<text text-anchor=\"middle\" x=\"226.5\" y=\"-126.8\" font-family=\"Helvetica,sans-Serif\" font-size=\"14.00\" fill=\"#000000\">value = [0, 34, 37]</text>\n<text text-anchor=\"middle\" x=\"226.5\" y=\"-111.8\" font-family=\"Helvetica,sans-Serif\" font-size=\"14.00\" fill=\"#000000\">class = virginica</text>\n</g>\n<!-- 0&#45;&gt;2 -->\n<g id=\"edge2\" class=\"edge\">\n<title>0&#45;&gt;2</title>\n<path fill=\"none\" stroke=\"#000000\" d=\"M172.5294,-222.8796C178.6855,-214.0534 185.2451,-204.6485 191.5936,-195.5466\"/>\n<polygon fill=\"#000000\" stroke=\"#000000\" points=\"194.4967,-197.5024 197.3467,-187.2981 188.7552,-193.4978 194.4967,-197.5024\"/>\n<text text-anchor=\"middle\" x=\"201.7331\" y=\"-208.2103\" font-family=\"Helvetica,sans-Serif\" font-size=\"14.00\" fill=\"#000000\">False</text>\n</g>\n<!-- 3 -->\n<g id=\"node4\" class=\"node\">\n<title>3</title>\n<path fill=\"#39e581\" fill-opacity=\"0.878431\" stroke=\"#000000\" d=\"M206.5,-68C206.5,-68 102.5,-68 102.5,-68 96.5,-68 90.5,-62 90.5,-56 90.5,-56 90.5,-12 90.5,-12 90.5,-6 96.5,0 102.5,0 102.5,0 206.5,0 206.5,0 212.5,0 218.5,-6 218.5,-12 218.5,-12 218.5,-56 218.5,-56 218.5,-62 212.5,-68 206.5,-68\"/>\n<text text-anchor=\"middle\" x=\"154.5\" y=\"-52.8\" font-family=\"Helvetica,sans-Serif\" font-size=\"14.00\" fill=\"#000000\">gini = 0.193</text>\n<text text-anchor=\"middle\" x=\"154.5\" y=\"-37.8\" font-family=\"Helvetica,sans-Serif\" font-size=\"14.00\" fill=\"#000000\">samples = 37</text>\n<text text-anchor=\"middle\" x=\"154.5\" y=\"-22.8\" font-family=\"Helvetica,sans-Serif\" font-size=\"14.00\" fill=\"#000000\">value = [0, 33, 4]</text>\n<text text-anchor=\"middle\" x=\"154.5\" y=\"-7.8\" font-family=\"Helvetica,sans-Serif\" font-size=\"14.00\" fill=\"#000000\">class = versicolor</text>\n</g>\n<!-- 2&#45;&gt;3 -->\n<g id=\"edge3\" class=\"edge\">\n<title>2&#45;&gt;3</title>\n<path fill=\"none\" stroke=\"#000000\" d=\"M199.6899,-103.9815C193.9331,-95.0666 187.8404,-85.6313 182.0559,-76.6734\"/>\n<polygon fill=\"#000000\" stroke=\"#000000\" points=\"184.9904,-74.7658 176.6254,-68.2637 179.1099,-78.5631 184.9904,-74.7658\"/>\n</g>\n<!-- 4 -->\n<g id=\"node5\" class=\"node\">\n<title>4</title>\n<path fill=\"#8139e5\" fill-opacity=\"0.968627\" stroke=\"#000000\" d=\"M348,-68C348,-68 249,-68 249,-68 243,-68 237,-62 237,-56 237,-56 237,-12 237,-12 237,-6 243,0 249,0 249,0 348,0 348,0 354,0 360,-6 360,-12 360,-12 360,-56 360,-56 360,-62 354,-68 348,-68\"/>\n<text text-anchor=\"middle\" x=\"298.5\" y=\"-52.8\" font-family=\"Helvetica,sans-Serif\" font-size=\"14.00\" fill=\"#000000\">gini = 0.057</text>\n<text text-anchor=\"middle\" x=\"298.5\" y=\"-37.8\" font-family=\"Helvetica,sans-Serif\" font-size=\"14.00\" fill=\"#000000\">samples = 34</text>\n<text text-anchor=\"middle\" x=\"298.5\" y=\"-22.8\" font-family=\"Helvetica,sans-Serif\" font-size=\"14.00\" fill=\"#000000\">value = [0, 1, 33]</text>\n<text text-anchor=\"middle\" x=\"298.5\" y=\"-7.8\" font-family=\"Helvetica,sans-Serif\" font-size=\"14.00\" fill=\"#000000\">class = virginica</text>\n</g>\n<!-- 2&#45;&gt;4 -->\n<g id=\"edge4\" class=\"edge\">\n<title>2&#45;&gt;4</title>\n<path fill=\"none\" stroke=\"#000000\" d=\"M253.3101,-103.9815C259.0669,-95.0666 265.1596,-85.6313 270.9441,-76.6734\"/>\n<polygon fill=\"#000000\" stroke=\"#000000\" points=\"273.8901,-78.5631 276.3746,-68.2637 268.0096,-74.7658 273.8901,-78.5631\"/>\n</g>\n</g>\n</svg>\n"
          },
          "metadata": {
            "tags": []
          },
          "execution_count": 81
        }
      ]
    },
    {
      "metadata": {
        "id": "YLkJuBp_W0sx",
        "colab_type": "text"
      },
      "cell_type": "markdown",
      "source": [
        "####**Gráfico que separa clases**\n",
        "\n",
        "Ahora con un gráfico de despersión separaremos las clases, la lineas que cruzan el gráfico son hechas a partir de los valores del arbol de decisión anterior."
      ]
    },
    {
      "metadata": {
        "id": "jgFAF92XW30e",
        "colab_type": "code",
        "outputId": "ba2c4c1a-02ed-4368-c262-c5141ee27b47",
        "colab": {
          "base_uri": "https://localhost:8080/",
          "height": 317
        }
      },
      "cell_type": "code",
      "source": [
        "plt.scatter(X[:, 0][y==0],X[:, 1][y==0], label=\"Iris Setosa\")\n",
        "plt.scatter(X[:,0][y==1], X[:, 1][y==1], label=\"Iris Versicolor\")\n",
        "plt.scatter(X[:,0][y==2], X[:, 1][y==2], label=\"Iris Virginica\")\n",
        "plt.xlabel(\"Largo de Pétalo\")\n",
        "plt.ylabel(\"Ancho de Pétalo\")\n",
        "plt.title(\"Representación Proceso de Decisión o Clasificación\")\n",
        "plt.plot([0, 7],[1.75, 1.75], lw=1.2) #En base a proceso anterior, segunda capa\n",
        "plt.plot([2.45,2.45], [0, 2.5], lw=1.2) #En base a proceso anterior, primera capa\n"
      ],
      "execution_count": 82,
      "outputs": [
        {
          "output_type": "execute_result",
          "data": {
            "text/plain": [
              "[<matplotlib.lines.Line2D at 0x7f02f3dddf98>]"
            ]
          },
          "metadata": {
            "tags": []
          },
          "execution_count": 82
        },
        {
          "output_type": "display_data",
          "data": {
            "image/png": "[encoded data removed]",
            "text/plain": [
              "<Figure size 432x288 with 1 Axes>"
            ]
          },
          "metadata": {
            "tags": []
          }
        }
      ]
    },
    {
      "metadata": {
        "id": "ERPPcm-90WAQ",
        "colab_type": "text"
      },
      "cell_type": "markdown",
      "source": [
        "Si te fijas, mientras más libre es el algoritmo (por ejemplo, mayor profundiadad) más reglas, y por tanto más lineas cruzando y separando las observaciones habría tenido el gráfico de arriba. Llegando a un resultado más preciso sobre la muestra de entrenamiento, pero al mismo tiempo transformandose en menos generalizable a nuevas observaciones."
      ]
    },
    {
      "metadata": {
        "id": "LzcEAi3GKsBF",
        "colab_type": "text"
      },
      "cell_type": "markdown",
      "source": [
        "####**Matriz de Confusión**\n",
        "\n",
        "La matriz de confusión es una poderosa herramienta que nos permite ver que tan bien el modelo generaliza sobre nuevos datasets. Vemos que comete un error: prediciendo Iris Versicolor"
      ]
    },
    {
      "metadata": {
        "id": "YlP8E9acKrGM",
        "colab_type": "code",
        "outputId": "648fcc02-3f93-40d1-c3ac-f744c11d7e74",
        "colab": {
          "base_uri": "https://localhost:8080/",
          "height": 173
        }
      },
      "cell_type": "code",
      "source": [
        "from sklearn.metrics import recall_score, precision_score, confusion_matrix, f1_score\n",
        "from sklearn.model_selection import train_test_split\n",
        "X_train, X_test, y_train, y_test = train_test_split(X, y, test_size=0.3)\n",
        "y_pred = tree_clf.predict(X_test)\n",
        "conf_matrix = pd.DataFrame(confusion_matrix(y_test, y_pred), index=[\"Iris-Setosa\", \"Iris-Versicolor\", \"Iris-Virginica\"]\n",
        "                           , columns=[\"Predice Iris-Setosa\", \"Predice Iris-Versicolor\", \"Predice Iris-Virginica\"])\n",
        "\n",
        "conf_matrix[\"Total\"] = conf_matrix[\"Predice Iris-Setosa\"]+conf_matrix[\"Predice Iris-Versicolor\"]+conf_matrix[\"Predice Iris-Virginica\"]\n",
        "row = pd.DataFrame((conf_matrix.iloc[0,:] + conf_matrix.iloc[1,:]+ conf_matrix.iloc[2,:]), columns=[\"Total\"])\n",
        "conf_matrix = conf_matrix.append(row.transpose())\n",
        "conf_matrix\n",
        "#0-->Iris-Setosa\n",
        "#1-->Iris-Versicolor\n",
        "#2-->Iris-Virginica"
      ],
      "execution_count": 84,
      "outputs": [
        {
          "output_type": "execute_result",
          "data": {
            "text/html": [
              "<div>\n",
              "<style scoped>\n",
              "    .dataframe tbody tr th:only-of-type {\n",
              "        vertical-align: middle;\n",
              "    }\n",
              "\n",
              "    .dataframe tbody tr th {\n",
              "        vertical-align: top;\n",
              "    }\n",
              "\n",
              "    .dataframe thead th {\n",
              "        text-align: right;\n",
              "    }\n",
              "</style>\n",
              "<table border=\"1\" class=\"dataframe\">\n",
              "  <thead>\n",
              "    <tr style=\"text-align: right;\">\n",
              "      <th></th>\n",
              "      <th>Predice Iris-Setosa</th>\n",
              "      <th>Predice Iris-Versicolor</th>\n",
              "      <th>Predice Iris-Virginica</th>\n",
              "      <th>Total</th>\n",
              "    </tr>\n",
              "  </thead>\n",
              "  <tbody>\n",
              "    <tr>\n",
              "      <th>Iris-Setosa</th>\n",
              "      <td>18</td>\n",
              "      <td>0</td>\n",
              "      <td>0</td>\n",
              "      <td>18</td>\n",
              "    </tr>\n",
              "    <tr>\n",
              "      <th>Iris-Versicolor</th>\n",
              "      <td>0</td>\n",
              "      <td>12</td>\n",
              "      <td>0</td>\n",
              "      <td>12</td>\n",
              "    </tr>\n",
              "    <tr>\n",
              "      <th>Iris-Virginica</th>\n",
              "      <td>0</td>\n",
              "      <td>1</td>\n",
              "      <td>14</td>\n",
              "      <td>15</td>\n",
              "    </tr>\n",
              "    <tr>\n",
              "      <th>Total</th>\n",
              "      <td>18</td>\n",
              "      <td>13</td>\n",
              "      <td>14</td>\n",
              "      <td>45</td>\n",
              "    </tr>\n",
              "  </tbody>\n",
              "</table>\n",
              "</div>"
            ],
            "text/plain": [
              "                 Predice Iris-Setosa  Predice Iris-Versicolor  \\\n",
              "Iris-Setosa                       18                        0   \n",
              "Iris-Versicolor                    0                       12   \n",
              "Iris-Virginica                     0                        1   \n",
              "Total                             18                       13   \n",
              "\n",
              "                 Predice Iris-Virginica  Total  \n",
              "Iris-Setosa                           0     18  \n",
              "Iris-Versicolor                       0     12  \n",
              "Iris-Virginica                       14     15  \n",
              "Total                                14     45  "
            ]
          },
          "metadata": {
            "tags": []
          },
          "execution_count": 84
        }
      ]
    },
    {
      "metadata": {
        "id": "zgBjivvxgig-",
        "colab_type": "text"
      },
      "cell_type": "markdown",
      "source": [
        "####**Regularización**\n",
        "\n",
        "Como hemos visto hasta ahora los arboles de decisión son muy utiles y poderosos. El problema o debilidad de ellos es que tienen una fuerte inclinación a realizar un overfit sobre la muestra de entrenamiento (ya que al no contar con supuestos como un modelo que asume un comportamiento lineal, el arbol de decisión es libre de ajustarse a los datos libremente) y por tanto desempeñarse pobremente sobre las muestras de testeo.\n",
        "\n",
        "Afortunadamente podemos regularizar el modelo de una manera sencilla: Limitando la profundidad del modelo, tal como lo hicimos con el ejemplo anterior.\n",
        "\n",
        "Si visitas la página de sklearn en la sección [arboles de decisión](https://scikit-learn.org/stable/modules/tree.html) puedes encontrar otros parámetros. \n",
        "\n",
        "- Aquelos que parten con ***min_*** los puedes aumentar para incrementar las restricciones. \n",
        "- Aquellos que parte con ***max_*** los puedes disminuir para aumentar las restricciones."
      ]
    },
    {
      "metadata": {
        "id": "NadVwy1ojjjQ",
        "colab_type": "text"
      },
      "cell_type": "markdown",
      "source": [
        "###**[Regresiones](https://scikit-learn.org/stable/modules/tree.html#regression)**\n",
        "\n",
        "La diferencia está en que en vez de predecir a que clase pertenece, se predice el valor que corresponde de acuerdo a un atributo."
      ]
    },
    {
      "metadata": {
        "id": "E7N7oaGTldcK",
        "colab_type": "code",
        "outputId": "bb52525a-0062-4313-b658-438d1c3f5b3b",
        "colab": {
          "base_uri": "https://localhost:8080/",
          "height": 102
        }
      },
      "cell_type": "code",
      "source": [
        "from sklearn.tree import DecisionTreeRegressor\n",
        "\n",
        "tree_reg = DecisionTreeRegressor(max_depth=2)\n",
        "tree_reg.fit(X, y)"
      ],
      "execution_count": 0,
      "outputs": [
        {
          "output_type": "execute_result",
          "data": {
            "text/plain": [
              "DecisionTreeRegressor(criterion='mse', max_depth=2, max_features=None,\n",
              "           max_leaf_nodes=None, min_impurity_decrease=0.0,\n",
              "           min_impurity_split=None, min_samples_leaf=1,\n",
              "           min_samples_split=2, min_weight_fraction_leaf=0.0,\n",
              "           presort=False, random_state=None, splitter='best')"
            ]
          },
          "metadata": {
            "tags": []
          },
          "execution_count": 76
        }
      ]
    },
    {
      "metadata": {
        "id": "QL85eXqFlsaq",
        "colab_type": "code",
        "outputId": "de6ecf37-0a0f-4d37-94fe-d718fd71e174",
        "colab": {
          "base_uri": "https://localhost:8080/",
          "height": 380
        }
      },
      "cell_type": "code",
      "source": [
        "export_graphviz(\n",
        "        tree_reg,\n",
        "        out_file=os.path.join(\"iris_tree.dot\"),\n",
        "        feature_names=iris.feature_names[2:],\n",
        "        class_names=iris.target_names,\n",
        "        rounded=True,\n",
        "        filled=True\n",
        "    )\n",
        "Source.from_file(os.path.join(\"iris_tree.dot\"))"
      ],
      "execution_count": 0,
      "outputs": [
        {
          "output_type": "execute_result",
          "data": {
            "text/plain": [
              "<graphviz.files.Source at 0x7f02f3ea6e80>"
            ],
            "image/svg+xml": "<?xml version=\"1.0\" encoding=\"UTF-8\" standalone=\"no\"?>\n<!DOCTYPE svg PUBLIC \"-//W3C//DTD SVG 1.1//EN\"\n \"http://www.w3.org/Graphics/SVG/1.1/DTD/svg11.dtd\">\n<!-- Generated by graphviz version 2.40.1 (20161225.0304)\n -->\n<!-- Title: Tree Pages: 1 -->\n<svg width=\"328pt\" height=\"269pt\"\n viewBox=\"0.00 0.00 328.00 269.00\" xmlns=\"http://www.w3.org/2000/svg\" xmlns:xlink=\"http://www.w3.org/1999/xlink\">\n<g id=\"graph0\" class=\"graph\" transform=\"scale(1 1) rotate(0) translate(4 265)\">\n<title>Tree</title>\n<polygon fill=\"#ffffff\" stroke=\"transparent\" points=\"-4,4 -4,-265 324,-265 324,4 -4,4\"/>\n<!-- 0 -->\n<g id=\"node1\" class=\"node\">\n<title>0</title>\n<path fill=\"#e58139\" fill-opacity=\"0.505882\" stroke=\"#000000\" d=\"M205,-261C205,-261 53,-261 53,-261 47,-261 41,-255 41,-249 41,-249 41,-205 41,-205 41,-199 47,-193 53,-193 53,-193 205,-193 205,-193 211,-193 217,-199 217,-205 217,-205 217,-249 217,-249 217,-255 211,-261 205,-261\"/>\n<text text-anchor=\"middle\" x=\"129\" y=\"-245.8\" font-family=\"Helvetica,sans-Serif\" font-size=\"14.00\" fill=\"#000000\">petal length (cm) &lt;= 2.45</text>\n<text text-anchor=\"middle\" x=\"129\" y=\"-230.8\" font-family=\"Helvetica,sans-Serif\" font-size=\"14.00\" fill=\"#000000\">mse = 0.667</text>\n<text text-anchor=\"middle\" x=\"129\" y=\"-215.8\" font-family=\"Helvetica,sans-Serif\" font-size=\"14.00\" fill=\"#000000\">samples = 150</text>\n<text text-anchor=\"middle\" x=\"129\" y=\"-200.8\" font-family=\"Helvetica,sans-Serif\" font-size=\"14.00\" fill=\"#000000\">value = 1.0</text>\n</g>\n<!-- 1 -->\n<g id=\"node2\" class=\"node\">\n<title>1</title>\n<path fill=\"transparent\" stroke=\"#000000\" d=\"M92,-149.5C92,-149.5 12,-149.5 12,-149.5 6,-149.5 0,-143.5 0,-137.5 0,-137.5 0,-108.5 0,-108.5 0,-102.5 6,-96.5 12,-96.5 12,-96.5 92,-96.5 92,-96.5 98,-96.5 104,-102.5 104,-108.5 104,-108.5 104,-137.5 104,-137.5 104,-143.5 98,-149.5 92,-149.5\"/>\n<text text-anchor=\"middle\" x=\"52\" y=\"-134.3\" font-family=\"Helvetica,sans-Serif\" font-size=\"14.00\" fill=\"#000000\">mse = 0.0</text>\n<text text-anchor=\"middle\" x=\"52\" y=\"-119.3\" font-family=\"Helvetica,sans-Serif\" font-size=\"14.00\" fill=\"#000000\">samples = 50</text>\n<text text-anchor=\"middle\" x=\"52\" y=\"-104.3\" font-family=\"Helvetica,sans-Serif\" font-size=\"14.00\" fill=\"#000000\">value = 0.0</text>\n</g>\n<!-- 0&#45;&gt;1 -->\n<g id=\"edge1\" class=\"edge\">\n<title>0&#45;&gt;1</title>\n<path fill=\"none\" stroke=\"#000000\" d=\"M103.7873,-192.9465C95.4689,-181.7113 86.2073,-169.2021 77.8426,-157.9043\"/>\n<polygon fill=\"#000000\" stroke=\"#000000\" points=\"80.4148,-155.4965 71.6514,-149.5422 74.7889,-159.6618 80.4148,-155.4965\"/>\n<text text-anchor=\"middle\" x=\"67.9629\" y=\"-170.5686\" font-family=\"Helvetica,sans-Serif\" font-size=\"14.00\" fill=\"#000000\">True</text>\n</g>\n<!-- 2 -->\n<g id=\"node3\" class=\"node\">\n<title>2</title>\n<path fill=\"#e58139\" fill-opacity=\"0.756863\" stroke=\"#000000\" d=\"M280,-157C280,-157 134,-157 134,-157 128,-157 122,-151 122,-145 122,-145 122,-101 122,-101 122,-95 128,-89 134,-89 134,-89 280,-89 280,-89 286,-89 292,-95 292,-101 292,-101 292,-145 292,-145 292,-151 286,-157 280,-157\"/>\n<text text-anchor=\"middle\" x=\"207\" y=\"-141.8\" font-family=\"Helvetica,sans-Serif\" font-size=\"14.00\" fill=\"#000000\">petal width (cm) &lt;= 1.75</text>\n<text text-anchor=\"middle\" x=\"207\" y=\"-126.8\" font-family=\"Helvetica,sans-Serif\" font-size=\"14.00\" fill=\"#000000\">mse = 0.25</text>\n<text text-anchor=\"middle\" x=\"207\" y=\"-111.8\" font-family=\"Helvetica,sans-Serif\" font-size=\"14.00\" fill=\"#000000\">samples = 100</text>\n<text text-anchor=\"middle\" x=\"207\" y=\"-96.8\" font-family=\"Helvetica,sans-Serif\" font-size=\"14.00\" fill=\"#000000\">value = 1.5</text>\n</g>\n<!-- 0&#45;&gt;2 -->\n<g id=\"edge2\" class=\"edge\">\n<title>0&#45;&gt;2</title>\n<path fill=\"none\" stroke=\"#000000\" d=\"M154.5401,-192.9465C161.1393,-184.1475 168.3246,-174.5672 175.2005,-165.3993\"/>\n<polygon fill=\"#000000\" stroke=\"#000000\" points=\"178.2025,-167.23 181.4025,-157.13 172.6025,-163.03 178.2025,-167.23\"/>\n<text text-anchor=\"middle\" x=\"184.938\" y=\"-178.1787\" font-family=\"Helvetica,sans-Serif\" font-size=\"14.00\" fill=\"#000000\">False</text>\n</g>\n<!-- 3 -->\n<g id=\"node4\" class=\"node\">\n<title>3</title>\n<path fill=\"#e58139\" fill-opacity=\"0.552941\" stroke=\"#000000\" d=\"M186,-53C186,-53 106,-53 106,-53 100,-53 94,-47 94,-41 94,-41 94,-12 94,-12 94,-6 100,0 106,0 106,0 186,0 186,0 192,0 198,-6 198,-12 198,-12 198,-41 198,-41 198,-47 192,-53 186,-53\"/>\n<text text-anchor=\"middle\" x=\"146\" y=\"-37.8\" font-family=\"Helvetica,sans-Serif\" font-size=\"14.00\" fill=\"#000000\">mse = 0.084</text>\n<text text-anchor=\"middle\" x=\"146\" y=\"-22.8\" font-family=\"Helvetica,sans-Serif\" font-size=\"14.00\" fill=\"#000000\">samples = 54</text>\n<text text-anchor=\"middle\" x=\"146\" y=\"-7.8\" font-family=\"Helvetica,sans-Serif\" font-size=\"14.00\" fill=\"#000000\">value = 1.093</text>\n</g>\n<!-- 2&#45;&gt;3 -->\n<g id=\"edge3\" class=\"edge\">\n<title>2&#45;&gt;3</title>\n<path fill=\"none\" stroke=\"#000000\" d=\"M185.4937,-88.9777C179.9369,-80.187 173.9427,-70.7044 168.3441,-61.8477\"/>\n<polygon fill=\"#000000\" stroke=\"#000000\" points=\"171.2101,-59.8312 162.9084,-53.2485 165.2931,-63.5714 171.2101,-59.8312\"/>\n</g>\n<!-- 4 -->\n<g id=\"node5\" class=\"node\">\n<title>4</title>\n<path fill=\"#e58139\" stroke=\"#000000\" d=\"M308,-53C308,-53 228,-53 228,-53 222,-53 216,-47 216,-41 216,-41 216,-12 216,-12 216,-6 222,0 228,0 228,0 308,0 308,0 314,0 320,-6 320,-12 320,-12 320,-41 320,-41 320,-47 314,-53 308,-53\"/>\n<text text-anchor=\"middle\" x=\"268\" y=\"-37.8\" font-family=\"Helvetica,sans-Serif\" font-size=\"14.00\" fill=\"#000000\">mse = 0.021</text>\n<text text-anchor=\"middle\" x=\"268\" y=\"-22.8\" font-family=\"Helvetica,sans-Serif\" font-size=\"14.00\" fill=\"#000000\">samples = 46</text>\n<text text-anchor=\"middle\" x=\"268\" y=\"-7.8\" font-family=\"Helvetica,sans-Serif\" font-size=\"14.00\" fill=\"#000000\">value = 1.978</text>\n</g>\n<!-- 2&#45;&gt;4 -->\n<g id=\"edge4\" class=\"edge\">\n<title>2&#45;&gt;4</title>\n<path fill=\"none\" stroke=\"#000000\" d=\"M228.5063,-88.9777C234.0631,-80.187 240.0573,-70.7044 245.6559,-61.8477\"/>\n<polygon fill=\"#000000\" stroke=\"#000000\" points=\"248.7069,-63.5714 251.0916,-53.2485 242.7899,-59.8312 248.7069,-63.5714\"/>\n</g>\n</g>\n</svg>\n"
          },
          "metadata": {
            "tags": []
          },
          "execution_count": 77
        }
      ]
    },
    {
      "metadata": {
        "id": "ZPNEhk70y42d",
        "colab_type": "text"
      },
      "cell_type": "markdown",
      "source": [
        "Esto ha sido todo con este capitulo, se invita al lector a ver la página de [sklearn](https://scikit-learn.org/stable/index.html). Es muy completa y amigable. Con ella podrás complementar lo que has aprendido acá."
      ]
    }
  ]
}